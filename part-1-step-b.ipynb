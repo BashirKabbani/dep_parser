{
 "cells": [
  {
   "cell_type": "code",
   "execution_count": 7,
   "metadata": {},
   "outputs": [],
   "source": [
    "import os"
   ]
  },
  {
   "cell_type": "code",
   "execution_count": 4,
   "metadata": {},
   "outputs": [],
   "source": [
    "def transform_conllu_file(input_file):\n",
    "    output_file = input_file.replace('.conllu', '_transformed.conllu')\n",
    "    \n",
    "    with open(input_file, 'r', encoding='utf-8') as infile, open(output_file, 'w', encoding='utf-8') as outfile:\n",
    "        for line in infile:\n",
    "            line = line.strip()\n",
    "            if not line:\n",
    "                outfile.write(\"\\n\")\n",
    "                continue\n",
    "            \n",
    "            # Split the line by tabs\n",
    "            columns = line.split('\\t')\n",
    "            \n",
    "            if len(columns) >= 8:  # Make sure there are enough columns\n",
    "                word = columns[1]  # FORM\n",
    "                tag = columns[3]  # UPOS\n",
    "                head = columns[6]  # HEAD\n",
    "                label = columns[7]  # DEPREL\n",
    "                \n",
    "                # If the label is 'root', set head to '-1'\n",
    "                if label == 'root':\n",
    "                    head = '-1'\n",
    "                \n",
    "                # Write the transformed line to the output file\n",
    "                outfile.write(f\"{word}\\t{tag}\\t{head}\\t{label}\\n\")\n",
    "\n",
    "    print(f\"Transformed data saved to {output_file}\")\n"
   ]
  },
  {
   "cell_type": "code",
   "execution_count": 11,
   "metadata": {},
   "outputs": [
    {
     "name": "stdout",
     "output_type": "stream",
     "text": [
      "Transformed data saved to filtered/de_hdt-ud-dev_filtered_transformed.conllu\n",
      "Transformed data saved to filtered/de_hdt-ud-test_filtered_transformed.conllu\n",
      "Transformed data saved to filtered/de_hdt-ud-train-a-1_filtered_transformed.conllu\n",
      "Transformed data saved to filtered/de_hdt-ud-train-a-2_filtered_transformed.conllu\n",
      "Transformed data saved to filtered/de_hdt-ud-train-b-1_filtered_transformed.conllu\n",
      "Transformed data saved to filtered/de_hdt-ud-train-b-2_filtered_transformed.conllu\n"
     ]
    }
   ],
   "source": [
    "for file in os.listdir('filtered'):\n",
    "    if file.endswith('_filtered.conllu'):\n",
    "        transform_conllu_file(f'filtered/{file}')"
   ]
  },
  {
   "cell_type": "code",
   "execution_count": null,
   "metadata": {},
   "outputs": [],
   "source": []
  },
  {
   "cell_type": "code",
   "execution_count": null,
   "metadata": {},
   "outputs": [],
   "source": []
  },
  {
   "cell_type": "code",
   "execution_count": null,
   "metadata": {},
   "outputs": [],
   "source": []
  }
 ],
 "metadata": {
  "kernelspec": {
   "display_name": "Python 3",
   "language": "python",
   "name": "python3"
  },
  "language_info": {
   "codemirror_mode": {
    "name": "ipython",
    "version": 3
   },
   "file_extension": ".py",
   "mimetype": "text/x-python",
   "name": "python",
   "nbconvert_exporter": "python",
   "pygments_lexer": "ipython3",
   "version": "3.12.4"
  }
 },
 "nbformat": 4,
 "nbformat_minor": 2
}
